{
 "cells": [
  {
   "cell_type": "code",
   "execution_count": 13,
   "metadata": {},
   "outputs": [],
   "source": [
    "PATH = \"../../data/\"\n",
    "\n",
    "datasets = ['DD', 'DHFR', 'ENZYMES', 'PROTEINS', 'FRANKENSTEIN', 'IMDB-BINARY', 'REDDIT-BINARY', 'Synthie']\n",
    "\n",
    "def _count_generator(reader):\n",
    "    b = reader(1024 * 1024)\n",
    "    while b:\n",
    "        yield b\n",
    "        b = reader(1024 * 1024)\n",
    "\n",
    "def line_count(file_path):\n",
    "    with open(file_path, 'rb') as fp:\n",
    "        c_generator = _count_generator(fp.raw.read)\n",
    "        # count each \\n\n",
    "        count = sum(buffer.count(b'\\n') for buffer in c_generator)\n",
    "        return count + 1\n",
    "    return None"
   ]
  },
  {
   "cell_type": "code",
   "execution_count": 12,
   "metadata": {},
   "outputs": [
    {
     "name": "stdout",
     "output_type": "stream",
     "text": [
      " & 30-5748 & 20-71 & 2-126 & 4-620 & 2-214 & 12-136 & 6-3782 & 90-100\n"
     ]
    }
   ],
   "source": [
    "count_node_range = \"\"\n",
    "for dataset in datasets:\n",
    "    indicator_file = PATH + \"{0}/{0}_graph_indicator.txt\".format(dataset)\n",
    "    file = open(indicator_file, 'r')\n",
    "    \n",
    "    node_to_graph = {}\n",
    "\n",
    "    for line in file.readlines():\n",
    "        line = line.strip()\n",
    "        node_to_graph[line] = node_to_graph.get(line, 0) + 1\n",
    "    \n",
    "    count_node_range += \" & {0}-{1}\".format(min(node_to_graph.values()), max(node_to_graph.values()))\n",
    "    \n",
    "print(count_node_range)"
   ]
  },
  {
   "cell_type": "code",
   "execution_count": 16,
   "metadata": {},
   "outputs": [
    {
     "name": "stdout",
     "output_type": "stream",
     "text": [
      "334926 1686093\n",
      "32076 67353\n",
      "19581 74565\n",
      "43472 162089\n",
      "73284 155069\n",
      "19774 386125\n",
      "859255 3982033\n",
      "38001 161745\n",
      " & 3.0061807692474378e-05 & 0.00013093027209247872 & 0.00038897121456516056 & 0.0001715435079056804 & 5.7748748390497885e-05 & 0.0019751078759291684 & 1.0786765065457563e-05 & 0.0002240176505050421\n"
     ]
    }
   ],
   "source": [
    "count_density = \"\"\n",
    "for dataset in datasets:\n",
    "    indicator_file = PATH + \"{0}/{0}_graph_indicator.txt\".format(dataset)\n",
    "    n_nodes = line_count(indicator_file)\n",
    "    \n",
    "    A_file = PATH + \"{0}/{0}_A.txt\".format(dataset)\n",
    "    m_edges = line_count(A_file)\n",
    "    \n",
    "    print(n_nodes, m_edges)\n",
    "    \n",
    "    count_density += \" & {}\".format(2 * m_edges / n_nodes / (n_nodes-1))\n",
    "    \n",
    "print(count_density)"
   ]
  },
  {
   "cell_type": "code",
   "execution_count": null,
   "metadata": {},
   "outputs": [],
   "source": []
  }
 ],
 "metadata": {
  "kernelspec": {
   "display_name": "Python 3",
   "language": "python",
   "name": "python3"
  },
  "language_info": {
   "codemirror_mode": {
    "name": "ipython",
    "version": 3
   },
   "file_extension": ".py",
   "mimetype": "text/x-python",
   "name": "python",
   "nbconvert_exporter": "python",
   "pygments_lexer": "ipython3",
   "version": "3.7.4"
  }
 },
 "nbformat": 4,
 "nbformat_minor": 2
}
